{
  "cells": [
    {
      "cell_type": "markdown",
      "metadata": {
        "id": "view-in-github",
        "colab_type": "text"
      },
      "source": [
        "<a href=\"https://colab.research.google.com/github/FetidoxxX/Repositorio1/blob/main/Actividad_Python_basico.ipynb\" target=\"_parent\"><img src=\"https://colab.research.google.com/assets/colab-badge.svg\" alt=\"Open In Colab\"/></a>"
      ]
    },
    {
      "cell_type": "markdown",
      "metadata": {
        "id": "50b1b713"
      },
      "source": [
        "<h1 style=\"text-align:center\">\n",
        "    Actividad de aprendizaje: Python básico\n",
        "</h1>\n",
        "\n",
        "<br>\n",
        "\n",
        "<font color=\"red\">\n",
        "\n",
        "<h3 style=\"text-align:center\">\n",
        "    Nombre1 Nombre2 Apellido1 Apellido2\n",
        "</h3>\n",
        "    \n",
        "<h3 style=\"text-align:center\">\n",
        "    Fecha\n",
        "</h3>\n",
        "\n",
        "<hr>"
      ],
      "id": "50b1b713"
    },
    {
      "cell_type": "markdown",
      "metadata": {
        "id": "634e2652"
      },
      "source": [
        "## Introducción\n",
        "\n",
        "<font color=\"darkblue\"> Este cuaderno es una plantilla inicial de trabajo, realice una copia en la misma carpeta. Renombre la copia con su nombre, sin tildes ni eñes con el siguiente formato \"**Apellido1_Apellido2_Nombre1_Nombre2.ipynb**\" (Ejemplo: \"**Ibanez_Forero_Luis_Eduardo.ipynb**\") para trabajar sobre él.\n",
        "\n",
        "- Cuando termine de resolver el proyecto, ejecutelo todo (**NO LE DEBE APARECER NINGUN ERROR**), despues descargue el proyecto en formato html, abralo y guadelo en formato pdf.\n",
        "- Mis explicaciones van en azul y estas no deben ser modificadas, tampoco deben ser modificadas por ninguna razón las celdas donde diga \"**Prueba de funcionamiento**\". Su trabajo consiste en plantear las celdas necesarias, ya sean en formato *code* o formato *markdown* que le permita resolver el proyecto.\n",
        "</font>  "
      ],
      "id": "634e2652"
    },
    {
      "cell_type": "code",
      "execution_count": null,
      "metadata": {
        "id": "98059087"
      },
      "outputs": [],
      "source": [
        "################################################################################################################\n",
        "################################################################################################################\n",
        "# Espacio para las librerías que va a necesitar\n",
        "# Ejemplo: import numpy as np\n",
        "################################################################################################################\n",
        "################################################################################################################\n",
        "\n",
        "\n",
        "\n",
        "\n",
        "\n",
        "\n",
        "\n"
      ],
      "id": "98059087"
    },
    {
      "cell_type": "markdown",
      "metadata": {
        "id": "c2e04145"
      },
      "source": [
        "<font color=\"darkblue\"> Ejercicio 1: Crear una variable llamada `a` que contenga el texto \"**De aquel amor. De música ligera. Nada nos libra.**\". Crear otra variable llamada `b` que contenga el texto \"**Nada más queda**\". Crear una tercera variable llamada `c` donde solo se tome el texto \"**Nada más** \" de `b`. Crear una cuarta variable llamada `d` donde repita el texto guardado en `b` cuatro veces. Por último, crear una variable llamada `e` que una todo el texto de la siguiente forma.\n",
        "</font>   \n",
        "\n",
        "\"De aquel amor. De música ligera. Nada nos libra. Nada más queda. Nada más Nada más queda. Nada más queda. Nada más queda. Nada más queda. \"\n",
        "\n",
        "\n"
      ],
      "id": "c2e04145"
    },
    {
      "cell_type": "code",
      "execution_count": null,
      "metadata": {
        "id": "95b5fe4d"
      },
      "outputs": [],
      "source": [
        "################################################################################################################\n",
        "## Este espacio debe ser llenado por el estudiante.\n",
        "################################################################################################################\n",
        "\n",
        "a=\"De aquel amor. De música ligera. Nada nos libra. \"\n",
        "b=\"Nada más queda. \"\n",
        "c=None\n",
        "d=None\n",
        "e=None\n"
      ],
      "id": "95b5fe4d"
    },
    {
      "cell_type": "code",
      "execution_count": null,
      "metadata": {
        "colab": {
          "base_uri": "https://localhost:8080/",
          "height": 216
        },
        "id": "36cfc91a",
        "outputId": "db40efd1-589e-4f1c-c981-40b7dac330c2"
      },
      "outputs": [
        {
          "output_type": "error",
          "ename": "TypeError",
          "evalue": "object of type 'NoneType' has no len()",
          "traceback": [
            "\u001b[0;31m---------------------------------------------------------------------------\u001b[0m",
            "\u001b[0;31mTypeError\u001b[0m                                 Traceback (most recent call last)",
            "\u001b[0;32m<ipython-input-3-e6dffc7807be>\u001b[0m in \u001b[0;36m<cell line: 8>\u001b[0;34m()\u001b[0m\n\u001b[1;32m      6\u001b[0m \u001b[0mp11\u001b[0m\u001b[0;34m=\u001b[0m\u001b[0misinstance\u001b[0m\u001b[0;34m(\u001b[0m\u001b[0ma\u001b[0m\u001b[0;34m,\u001b[0m \u001b[0mstr\u001b[0m\u001b[0;34m)\u001b[0m \u001b[0;34m&\u001b[0m \u001b[0;34m(\u001b[0m\u001b[0mlen\u001b[0m\u001b[0;34m(\u001b[0m\u001b[0ma\u001b[0m\u001b[0;34m)\u001b[0m\u001b[0;34m==\u001b[0m\u001b[0;36m49\u001b[0m\u001b[0;34m)\u001b[0m\u001b[0;34m\u001b[0m\u001b[0;34m\u001b[0m\u001b[0m\n\u001b[1;32m      7\u001b[0m \u001b[0mp12\u001b[0m\u001b[0;34m=\u001b[0m\u001b[0misinstance\u001b[0m\u001b[0;34m(\u001b[0m\u001b[0mb\u001b[0m\u001b[0;34m,\u001b[0m \u001b[0mstr\u001b[0m\u001b[0;34m)\u001b[0m \u001b[0;34m&\u001b[0m \u001b[0;34m(\u001b[0m\u001b[0mlen\u001b[0m\u001b[0;34m(\u001b[0m\u001b[0mb\u001b[0m\u001b[0;34m)\u001b[0m\u001b[0;34m==\u001b[0m\u001b[0;36m16\u001b[0m\u001b[0;34m)\u001b[0m\u001b[0;34m\u001b[0m\u001b[0;34m\u001b[0m\u001b[0m\n\u001b[0;32m----> 8\u001b[0;31m \u001b[0mp13\u001b[0m\u001b[0;34m=\u001b[0m\u001b[0misinstance\u001b[0m\u001b[0;34m(\u001b[0m\u001b[0mc\u001b[0m\u001b[0;34m,\u001b[0m \u001b[0mstr\u001b[0m\u001b[0;34m)\u001b[0m \u001b[0;34m&\u001b[0m \u001b[0;34m(\u001b[0m\u001b[0mlen\u001b[0m\u001b[0;34m(\u001b[0m\u001b[0mc\u001b[0m\u001b[0;34m)\u001b[0m\u001b[0;34m==\u001b[0m\u001b[0;36m9\u001b[0m\u001b[0;34m)\u001b[0m\u001b[0;34m\u001b[0m\u001b[0;34m\u001b[0m\u001b[0m\n\u001b[0m\u001b[1;32m      9\u001b[0m \u001b[0mp14\u001b[0m\u001b[0;34m=\u001b[0m\u001b[0misinstance\u001b[0m\u001b[0;34m(\u001b[0m\u001b[0md\u001b[0m\u001b[0;34m,\u001b[0m \u001b[0mstr\u001b[0m\u001b[0;34m)\u001b[0m \u001b[0;34m&\u001b[0m \u001b[0;34m(\u001b[0m\u001b[0mlen\u001b[0m\u001b[0;34m(\u001b[0m\u001b[0md\u001b[0m\u001b[0;34m)\u001b[0m\u001b[0;34m==\u001b[0m\u001b[0;36m64\u001b[0m\u001b[0;34m)\u001b[0m\u001b[0;34m\u001b[0m\u001b[0;34m\u001b[0m\u001b[0m\n\u001b[1;32m     10\u001b[0m \u001b[0mp15\u001b[0m\u001b[0;34m=\u001b[0m\u001b[0misinstance\u001b[0m\u001b[0;34m(\u001b[0m\u001b[0me\u001b[0m\u001b[0;34m,\u001b[0m \u001b[0mstr\u001b[0m\u001b[0;34m)\u001b[0m \u001b[0;34m&\u001b[0m \u001b[0;34m(\u001b[0m\u001b[0mlen\u001b[0m\u001b[0;34m(\u001b[0m\u001b[0me\u001b[0m\u001b[0;34m)\u001b[0m\u001b[0;34m==\u001b[0m\u001b[0;36m138\u001b[0m\u001b[0;34m)\u001b[0m\u001b[0;34m\u001b[0m\u001b[0;34m\u001b[0m\u001b[0m\n",
            "\u001b[0;31mTypeError\u001b[0m: object of type 'NoneType' has no len()"
          ]
        }
      ],
      "source": [
        "################################################################################################################\n",
        "## Prueba de funcionamiento\n",
        "## Esta celda no debe ser modificada\n",
        "################################################################################################################\n",
        "import numpy as np\n",
        "p11=isinstance(a, str) & (len(a)==49)\n",
        "p12=isinstance(b, str) & (len(b)==16)\n",
        "p13=isinstance(c, str) & (len(c)==9)\n",
        "p14=isinstance(d, str) & (len(d)==64)\n",
        "p15=isinstance(e, str) & (len(e)==138)\n",
        "p1=p11 & p12 & p13 & p14 & p15\n",
        "if p1==True:\n",
        "  n1=1\n",
        "else:\n",
        "  n1=0\n",
        "\n",
        "print(f\"¡¡¡Felicidades!!! Tu nota hasta este momento es {n1} de 5\" if p1==True else f\"Hay un error, vuelve a revisar tu codigo. Tu nota hasta este momento es {n1} de 5\" )\n",
        "################################################################################################################\n",
        "## Prueba de funcionamiento\n",
        "## Esta celda no debe ser modificada\n",
        "################################################################################################################"
      ],
      "id": "36cfc91a"
    },
    {
      "cell_type": "markdown",
      "metadata": {
        "id": "4a2897c7"
      },
      "source": [
        "<font color=\"darkblue\"> 2) Crear un vector llamado $v=[789,796,\\dots,922]$ que empiece en 789 y contenga los múltiplos de 7 usando la función `arange()` de la librería numpy. Después crear una matriz $A$ de tamaño $(4\\times 5)$ usando la función `reshape()` de la librería numpy. Calcular la transpuesta de la matriz $A$ usando el comando $A.T$ y guardar el resultado en una variable llamada $B$. Por último, realizar el producto matricial de $A$ y $B$ usando el operador `@`.\n",
        "</font>  \n"
      ],
      "id": "4a2897c7"
    },
    {
      "cell_type": "code",
      "execution_count": null,
      "metadata": {
        "id": "53399dea"
      },
      "outputs": [],
      "source": [
        "################################################################################################################\n",
        "## Este espacio debe ser llenado por el estudiante.\n",
        "################################################################################################################\n",
        "\n",
        "v=None\n",
        "A=None\n",
        "B=None\n",
        "C=None"
      ],
      "id": "53399dea"
    },
    {
      "cell_type": "code",
      "execution_count": null,
      "metadata": {
        "id": "da2a5620"
      },
      "outputs": [],
      "source": [
        "################################################################################################################\n",
        "## Prueba de funcionamiento\n",
        "## Esta celda no debe ser modificada\n",
        "################################################################################################################\n",
        "\n",
        "p21=isinstance(v,np.ndarray) and v.shape==(20,)\n",
        "p22=isinstance(A,np.ndarray) and A.shape==(4,5)\n",
        "p23=isinstance(B,np.ndarray) and B.shape==(5,4)\n",
        "p24=isinstance(C,np.ndarray) and C.shape==(4,4) and np.linalg.det(C)==0\n",
        "\n",
        "p2=p21 & p22 & p23 & p24\n",
        "if p2==True:\n",
        "  n2=1\n",
        "else:\n",
        "  n2=0\n",
        "\n",
        "print(f\"¡¡¡Felicidades!!! Tu nota hasta este momento es {n1+n2} de 5\" if p2==True else f\"Hay un error, vuelve a revisar tu codigo. Tu nota hasta este momento es {n1+n2} de 5\" )\n",
        "################################################################################################################\n",
        "## Prueba de funcionamiento\n",
        "## Esta celda no debe ser modificada\n",
        "################################################################################################################"
      ],
      "id": "da2a5620"
    },
    {
      "cell_type": "markdown",
      "metadata": {
        "id": "2ede37da"
      },
      "source": [
        "\n",
        "<font color=\"darkblue\">\n",
        "3) Crear una lista llamada **meses_mayuscula** donde convierta todos los elementos de la lista **meses** usando la función `upper()` por medio del código `[mes.upper() for mes in meses]`. Crear una variable llamada **filtro_bre** donde se aplique un filtro sobre la variable **meses_mayusculas** usando la función `filter()` y `lambda`, tal que se filtren los meses que contengan el término \"BRE\". Después crear una variable llamada **filtro_ju** donde se aplique un filtro sobre la variable **meses_mayusculas** usando la función `filter()` y `lambda`, tal que se filtren los meses que contengan el término \"JU\". Por último, crear una variable llamada **lista_bre_ju** donde se unan las listas **lista_bre** y **lista_ju**.\n",
        "</font>  \n",
        "    \n"
      ],
      "id": "2ede37da"
    },
    {
      "cell_type": "code",
      "execution_count": null,
      "metadata": {
        "id": "62f0ebf9"
      },
      "outputs": [],
      "source": [
        "################################################################################################################\n",
        "## Este espacio debe ser llenado por el estudiante.\n",
        "################################################################################################################\n",
        "\n",
        "meses=['enero','febrero','marzo','abril','mayo','junio','julio','agosto','septiembre','octubre','noviembre','diciembre']\n",
        "meses_mayusculas=None\n",
        "\n",
        "filtro_bre=None\n",
        "\n",
        "lista_bre=None\n",
        "\n",
        "filtro_ju=None\n",
        "\n",
        "lista_ju=None\n",
        "\n",
        "lista_bre_ju=None\n",
        "\n"
      ],
      "id": "62f0ebf9"
    },
    {
      "cell_type": "code",
      "execution_count": null,
      "metadata": {
        "id": "b3acbd74"
      },
      "outputs": [],
      "source": [
        "################################################################################################################\n",
        "## Prueba de funcionamiento\n",
        "## Esta celda no debe ser modificada\n",
        "################################################################################################################\n",
        "\n",
        "p31=set([mes.isupper() for mes in meses_mayusculas])==set([True]*12)\n",
        "p32=len(lista_bre)==5\n",
        "p33=len(lista_ju)==2\n",
        "p34=len(lista_bre_ju)==7\n",
        "\n",
        "\n",
        "p3=p31 & p32 & p33 & p34\n",
        "if p3==True:\n",
        "  n3=1\n",
        "else:\n",
        "  n3=0\n",
        "\n",
        "print(f\"¡¡¡Felicidades!!! Tu nota hasta este momento es {n1+n2+n3} de 5\" if p3==True else f\"Hay un error, vuelve a revisar tu codigo. Tu nota hasta este momento es {n1+n2+n3} de 5\" )\n",
        "################################################################################################################\n",
        "## Prueba de funcionamiento\n",
        "## Esta celda no debe ser modificada\n",
        "################################################################################################################"
      ],
      "id": "b3acbd74"
    },
    {
      "cell_type": "markdown",
      "metadata": {
        "id": "850ce878"
      },
      "source": [
        "\n",
        "<font color=\"darkblue\">\n",
        "4) Se leyó el dataset **movies** de una url. A partir de una transformaciones se obtuvieron dos listas llamadas **cabecera** y **lineas_sin_cabecera**. Así pues, se pide:\n",
        "- Crear una lista vacia llamada **nombre_pelicula**, luego usar el metodo `append()` y el metodo `split()` para seleccionar el nombre de las peliculas, tal y como se muestra en el siguiente ejemplo\n",
        "\n",
        "    \n",
        "    nombre_pelicula=[]\n",
        "    for l in lineas_sin_cabecera:\n",
        "        nombre_pelicula.append(l.split(',')[0])\n",
        "    \n",
        "   \n",
        "<font color=\"darkblue\">\n",
        "\n",
        "- Crear listas vacias llamadas **anno** y **genero** y repetir el procedimiento anterior, seleccionando las variables **year** y **genre** respectivamente del dataset.\n",
        "- Crear una lista vacia llamada **recaudacion_mundial** y aplicar el siguiente codigo:\n",
        "</font>  \n",
        "    \n",
        "    \n",
        "    for l in lineas_sin_cabecera:\n",
        "        valor=re.findall(r'\\d{1,3}.\\d{1,2}\\S',l.split(',')[-2])\n",
        "        recaudacion=''.join(valor)\n",
        "        recaudacion_mundial.append(recaudacion)\n",
        "    \n",
        "    i=recaudacion_mundial.index('')\n",
        "    recaudacion_mundial[i]='0'\n",
        "    recaudacion_mundial=[float(x) for x in recaudacion_mundial]"
      ],
      "id": "850ce878"
    },
    {
      "cell_type": "code",
      "execution_count": null,
      "metadata": {
        "id": "9ffa653c"
      },
      "outputs": [],
      "source": [
        "################################################################################################################\n",
        "## Lectura de datos\n",
        "## Esta celda no debe ser modificada\n",
        "################################################################################################################\n",
        "\n",
        "import urllib.request\n",
        "import re\n",
        "\n",
        "url = 'https://gist.githubusercontent.com/tiangechen/b68782efa49a16edaf07dc2cdaa855ea/raw/0c794a9717f18b094eabab2cd6a6b9a226903577/movies.csv'\n",
        "\n",
        "with urllib.request.urlopen(url) as datos:\n",
        "   lineas=str(datos.readlines()).split('\\\\n')\n",
        "\n",
        "lineas_sin_cabecera=[]\n",
        "for linea in lineas:\n",
        "    if linea==lineas[0]:\n",
        "        cabecera=lineas[0][5:]\n",
        "    else:\n",
        "        if linea==lineas[len(lineas)-1]:\n",
        "            lineas_sin_cabecera.append(linea[5:-1])\n",
        "        else:\n",
        "            lineas_sin_cabecera.append(linea[5:])\n",
        "\n",
        "print(cabecera)\n",
        "for l in lineas_sin_cabecera[:5]:\n",
        "    print(l)\n",
        "################################################################################################################\n",
        "## Lectura de datos\n",
        "## Esta celda no debe ser modificada\n",
        "################################################################################################################"
      ],
      "id": "9ffa653c"
    },
    {
      "cell_type": "code",
      "execution_count": null,
      "metadata": {
        "id": "45952625"
      },
      "outputs": [],
      "source": [
        "################################################################################################################\n",
        "## Este espacio debe ser llenado por el estudiante.\n",
        "################################################################################################################\n",
        "nombre_pelicula=None\n",
        "genero=None\n",
        "anno=None\n",
        "recaudacion_mundial=None\n",
        "\n",
        "\n",
        "\n"
      ],
      "id": "45952625"
    },
    {
      "cell_type": "code",
      "execution_count": null,
      "metadata": {
        "id": "5b8e69f2"
      },
      "outputs": [],
      "source": [
        "################################################################################################################\n",
        "## Prueba de funcionamiento\n",
        "## Esta celda no debe ser modificada\n",
        "################################################################################################################\n",
        "\n",
        "import collections\n",
        "\n",
        "p41=set(list(collections.Counter(genero).values()))==set([13, 41, 13, 4, 1, 1, 1, 1, 1, 1])\n",
        "p42=set(list(collections.Counter(anno).values()))==set([20, 20, 14, 11, 11, 1])\n",
        "p43=np.mean(recaudacion_mundial)==142.3733766233766\n",
        "p44=len(nombre_pelicula)==77\n",
        "\n",
        "p4=p41 & p42 & p43 & p44\n",
        "if p4==True:\n",
        "  n4=1\n",
        "else:\n",
        "  n4=0\n",
        "\n",
        "print(f\"¡¡¡Felicidades!!! Tu nota hasta este momento es {n1+n2+n3+n4} de 5\" if p4==True else f\"Hay un error, vuelve a revisar tu codigo. Tu nota hasta este momento es {n1+n2+n3+n4} de 5\" )\n",
        "\n",
        "################################################################################################################\n",
        "## Prueba de funcionamiento\n",
        "## Esta celda no debe ser modificada\n",
        "################################################################################################################"
      ],
      "id": "5b8e69f2"
    },
    {
      "cell_type": "markdown",
      "metadata": {
        "id": "48f3dae3"
      },
      "source": [
        "\n",
        "<font color=\"darkblue\">\n",
        "5) Crear una lista llamada **tupla_atributos** donde cada componente de la lista sea una tupla que contenga los elementos de las variables **genero**, **anno** y **recaudacion_mundial**; por ejemplo\n",
        "    \n",
        "    \n",
        "    \n",
        "    [('Romance', '2008', 41.94),\n",
        "    ('Comedy', '2010', 19.62),\n",
        "    ('Comedy', '2010', 26.66),\n",
        "    ('Comedy', '2010', 43.04),\n",
        "    ('Comedy', '2008', 219.37),\n",
        "    ('Drama', '2011', 117.09),\n",
        "    ('Animation', '2008', 521.28),\n",
        "    ('Romance', '2007', 22.18),...]\n",
        "\n",
        "<font color=\"darkblue\">\n",
        "Crear una variable llamada **diccionario_peliculas** cuyas llaves sean los nombres de las peliculas y sus valores las tuplas de la lista **tupla_atributos**, ejemplo\n",
        "    \n",
        "    {'Zack and Miri Make a Porno': ('Romance', '2008', 41.94),\n",
        "    'Youth in Revolt': ('Comedy', '2010', 19.62),\n",
        "    'You Will Meet a Tall Dark Stranger': ('Comedy', '2010', 26.66),\n",
        "    'When in Rome': ('Comedy', '2010', 43.04),\n",
        "    'What Happens in Vegas': ('Comedy', '2008', 219.37),\n",
        "    'Water For Elephants': ('Drama', '2011', 117.09),\n",
        "    'WALL-E': ('Animation', '2008', 521.28),\n",
        "    'Waitress': ('Romance', '2007', 22.18),\n",
        "    'Waiting For Forever': ('Romance', '2011', 0.03),...}\n",
        "    \n",
        "Por último, crear un DataFrame, llamado **df**, usando la libreria pandas y usando el siguiente codigo\n",
        "</font>  \n",
        "    \n",
        "    import pandas as pd\n",
        "    nom_keys=list(diccionario_peliculas.keys())\n",
        "    df=pd.DataFrame( [ diccionario_peliculas[key] for key in diccionario_peliculas.keys()],index= nom_keys,columns=[['genero','anno','recaudacion(millones_dolares)']]  )"
      ],
      "id": "48f3dae3"
    },
    {
      "cell_type": "code",
      "execution_count": null,
      "metadata": {
        "id": "88c1c2a8"
      },
      "outputs": [],
      "source": [
        "################################################################################################################\n",
        "## Este espacio debe ser llenado por el estudiante.\n",
        "################################################################################################################\n",
        "\n",
        "diccionario_peliculas=None\n",
        "\n",
        "tupla_atributos=None\n",
        "\n",
        "df=None\n",
        "\n"
      ],
      "id": "88c1c2a8"
    },
    {
      "cell_type": "code",
      "execution_count": null,
      "metadata": {
        "id": "504182c6"
      },
      "outputs": [],
      "source": [
        "################################################################################################################\n",
        "## Prueba de funcionamiento\n",
        "## Esta celda no debe ser modificada\n",
        "################################################################################################################\n",
        "\n",
        "\n",
        "p51=np.array(tupla_atributos).shape==(77,3) and type(tupla_atributos)==list and type(tupla_atributos[0])==tuple\n",
        "p52=type(diccionario_peliculas)==dict and set(list(diccionario_peliculas.keys()))==set(nombre_pelicula) and set(list(diccionario_peliculas.values()))==set(tupla_atributos)\n",
        "p53=type(df)==pd.core.frame.DataFrame and df.shape==(75,3) and set(list(df.columns))==set([('genero',), ('anno',), ('recaudacion(millones_dolares)',)])\n",
        "\n",
        "p5=p51 & p52 & p53\n",
        "if p5==True:\n",
        "  n5=1\n",
        "else:\n",
        "  n5=0\n",
        "\n",
        "print(f\"¡¡¡Felicidades!!! Tu nota hasta este momento es {n1+n2+n3+n4+n5} de 5\" if p5==True  else f\"Hay un error, vuelve a revisar tu codigo. Tu nota hasta este momento es {n1+n2+n3+n4+n5} de 5\" )\n",
        "\n",
        "################################################################################################################\n",
        "## Prueba de funcionamiento\n",
        "## Esta celda no debe ser modificada\n",
        "################################################################################################################"
      ],
      "id": "504182c6"
    },
    {
      "cell_type": "markdown",
      "metadata": {
        "id": "220fdd0d"
      },
      "source": [
        "\n",
        "# Comentarios por parte del estudiante\n",
        "### Escriba aqui sus comentarios y conclusiones\n",
        "\n",
        "\n",
        "-\n",
        "\n",
        "-\n",
        "\n",
        "-\n",
        "\n"
      ],
      "id": "220fdd0d"
    }
  ],
  "metadata": {
    "colab": {
      "provenance": [],
      "include_colab_link": true
    },
    "kernelspec": {
      "display_name": "Python 3 (ipykernel)",
      "language": "python",
      "name": "python3"
    },
    "language_info": {
      "codemirror_mode": {
        "name": "ipython",
        "version": 3
      },
      "file_extension": ".py",
      "mimetype": "text/x-python",
      "name": "python",
      "nbconvert_exporter": "python",
      "pygments_lexer": "ipython3",
      "version": "3.9.7"
    },
    "latex_envs": {
      "LaTeX_envs_menu_present": true,
      "autoclose": false,
      "autocomplete": true,
      "bibliofile": "biblio.bib",
      "cite_by": "apalike",
      "current_citInitial": 1,
      "eqLabelWithNumbers": true,
      "eqNumInitial": 1,
      "hotkeys": {
        "equation": "Ctrl-E",
        "itemize": "Ctrl-I"
      },
      "labels_anchors": false,
      "latex_user_defs": false,
      "report_style_numbering": false,
      "user_envs_cfg": false
    }
  },
  "nbformat": 4,
  "nbformat_minor": 5
}